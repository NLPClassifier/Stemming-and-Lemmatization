{
 "cells": [
  {
   "cell_type": "code",
   "execution_count": 1,
   "metadata": {},
   "outputs": [],
   "source": [
    "import nltk"
   ]
  },
  {
   "cell_type": "code",
   "execution_count": 2,
   "metadata": {},
   "outputs": [],
   "source": [
    "######nltk.download()\n",
    "# nltk.download('punkt')\n",
    "# nltk.download('averaged_perceptron_tagger')\n",
    "# nltk.download('sentiwordnet')\n",
    "# nltk.download('wordnet')\n",
    "# nltk.download('gutenberg')\n",
    "# nltk.download('stopwords')\n",
    "# nltk.download('genesis')\n",
    "# nltk.download('inaugural')\n",
    "# nltk.download('nps_chat')\n",
    "# nltk.download('webtext')\n",
    "# nltk.download('treebank')\n",
    "# nltk.download('movie_reviews')"
   ]
  },
  {
   "cell_type": "code",
   "execution_count": 3,
   "metadata": {},
   "outputs": [],
   "source": [
    "sn1 = \"hello and welcome to the machine learning course\""
   ]
  },
  {
   "cell_type": "code",
   "execution_count": 4,
   "metadata": {},
   "outputs": [
    {
     "data": {
      "text/plain": [
       "['hello', 'and', 'welcome', 'to', 'the', 'machine', 'learning', 'course']"
      ]
     },
     "execution_count": 4,
     "metadata": {},
     "output_type": "execute_result"
    }
   ],
   "source": [
    "words=nltk.word_tokenize(sn1)\n",
    "words"
   ]
  },
  {
   "cell_type": "code",
   "execution_count": 5,
   "metadata": {},
   "outputs": [
    {
     "data": {
      "text/plain": [
       "[('hello', 'NN'),\n",
       " ('and', 'CC'),\n",
       " ('welcome', 'NN'),\n",
       " ('to', 'TO'),\n",
       " ('the', 'DT'),\n",
       " ('machine', 'NN'),\n",
       " ('learning', 'NN'),\n",
       " ('course', 'NN')]"
      ]
     },
     "execution_count": 5,
     "metadata": {},
     "output_type": "execute_result"
    }
   ],
   "source": [
    "nltk.pos_tag(words) #part of speech"
   ]
  },
  {
   "cell_type": "code",
   "execution_count": 6,
   "metadata": {},
   "outputs": [
    {
     "data": {
      "text/plain": [
       "[('lets', 'NNS'), ('go', 'VBP'), ('to', 'TO'), ('eat', 'VB')]"
      ]
     },
     "execution_count": 6,
     "metadata": {},
     "output_type": "execute_result"
    }
   ],
   "source": [
    "sn2 = \"lets go to eat\"\n",
    "nltk.pos_tag(nltk.word_tokenize(sn2))"
   ]
  },
  {
   "cell_type": "markdown",
   "metadata": {},
   "source": [
    "CC: Coordinating conjunction\n",
    "\n",
    "CD: Cardinal number\n",
    "\n",
    "DT: Determiner\n",
    "\n",
    "EX: Existential there\n",
    "\n",
    "FW: Foreign word\n",
    "\n",
    "IN: Preposition or subordinating conjunction\n",
    "\n",
    "JJ: Adjective\n",
    "\n",
    "VP: Verb Phrase\n",
    "\n",
    "JJR: Adjective, comparative\n",
    "\n",
    "JJS: Adjective, superlative\n",
    "\n",
    "LS: List item marker\n",
    "\n",
    "MD: Modal\n",
    "\n",
    "NN: Noun, singular or mass\n",
    "\n",
    "NNS: Noun, plural\n",
    "\n",
    "PP: Preposition Phrase\n",
    "\n",
    "NNP: Proper noun, singular Phrase\n",
    "\n",
    "NNPS: Proper noun, plural\n",
    "\n",
    "PDT: Pre determiner\n",
    "\n",
    "POS: Possessive ending\n",
    "\n",
    "PRP: Personal pronoun Phrase\n",
    "\n",
    "PRP: Possessive pronoun Phrase\n",
    "\n",
    "RB: Adverb\n",
    "\n",
    "RBR: Adverb, comparative\n",
    "\n",
    "RBS: Adverb, superlative\n",
    "\n",
    "RP: Particle\n",
    "\n",
    "S: Simple declarative clause\n",
    "\n",
    "SBAR: Clause introduced by a (possibly empty) subordinating conjunction\n",
    "\n",
    "SBARQ: Direct question introduced by a wh-word or a wh-phrase.\n",
    "\n",
    "SINV: Inverted declarative sentence, i.e. one in which the subject follows the tensed verb or modal.\n",
    "\n",
    "SQ: Inverted yes/no question, or main clause of a wh-question, following the wh-phrase in SBARQ.\n",
    "\n",
    "SYM: Symbol\n",
    "\n",
    "VBD: Verb, past tense\n",
    "\n",
    "VBG: Verb, gerund or present participle\n",
    "\n",
    "VBN: Verb, past participle\n",
    "\n",
    "VBP: Verb, non-3rd person singular present\n",
    "\n",
    "VBZ: Verb, 3rd person singular present\n",
    "\n",
    "WDT: Wh-determiner\n",
    "\n",
    "WP: Wh-pronoun\n",
    "\n",
    "WP: Possessive wh-pronoun\n",
    "\n",
    "WRB: Wh-adverb"
   ]
  },
  {
   "cell_type": "code",
   "execution_count": 7,
   "metadata": {},
   "outputs": [],
   "source": [
    "###################################################\n",
    "# 1. try different types of words to see meaning of the POS tag: apple, go, table, on\n",
    "# 2. find an example that will yield NNS VBP JJ\n",
    "# 3. find an example that will yield NN CC NN\n",
    "# 4. find an example that will yield NNS CC NNS"
   ]
  },
  {
   "cell_type": "code",
   "execution_count": 8,
   "metadata": {},
   "outputs": [
    {
     "data": {
      "text/plain": [
       "[('go', 'VB')]"
      ]
     },
     "execution_count": 8,
     "metadata": {},
     "output_type": "execute_result"
    }
   ],
   "source": [
    "nltk.pos_tag([\"go\"])"
   ]
  },
  {
   "cell_type": "code",
   "execution_count": 9,
   "metadata": {},
   "outputs": [
    {
     "data": {
      "text/plain": [
       "[('apple', 'NN')]"
      ]
     },
     "execution_count": 9,
     "metadata": {},
     "output_type": "execute_result"
    }
   ],
   "source": [
    "nltk.pos_tag([\"apple\"])"
   ]
  },
  {
   "cell_type": "code",
   "execution_count": 10,
   "metadata": {},
   "outputs": [
    {
     "data": {
      "text/plain": [
       "[('on', 'IN')]"
      ]
     },
     "execution_count": 10,
     "metadata": {},
     "output_type": "execute_result"
    }
   ],
   "source": [
    "nltk.pos_tag([\"on\"])"
   ]
  },
  {
   "cell_type": "code",
   "execution_count": 11,
   "metadata": {},
   "outputs": [
    {
     "data": {
      "text/plain": [
       "[('apples', 'NNS'), ('are', 'VBP'), ('tasty', 'JJ')]"
      ]
     },
     "execution_count": 11,
     "metadata": {},
     "output_type": "execute_result"
    }
   ],
   "source": [
    "nltk.pos_tag(nltk.word_tokenize(\"apples are tasty\"))"
   ]
  },
  {
   "cell_type": "code",
   "execution_count": 12,
   "metadata": {},
   "outputs": [
    {
     "data": {
      "text/plain": [
       "[('apple', 'NN'), ('and', 'CC'), ('banana', 'NN')]"
      ]
     },
     "execution_count": 12,
     "metadata": {},
     "output_type": "execute_result"
    }
   ],
   "source": [
    "nltk.pos_tag(nltk.word_tokenize(\"apple and banana\"))"
   ]
  },
  {
   "cell_type": "code",
   "execution_count": 13,
   "metadata": {},
   "outputs": [
    {
     "data": {
      "text/plain": [
       "[('apples', 'NNS'), ('and', 'CC'), ('bananas', 'NNS')]"
      ]
     },
     "execution_count": 13,
     "metadata": {},
     "output_type": "execute_result"
    }
   ],
   "source": [
    "nltk.pos_tag(nltk.word_tokenize(\"apples and bananas\"))"
   ]
  }
 ],
 "metadata": {
  "kernelspec": {
   "display_name": "Python 3",
   "language": "python",
   "name": "python3"
  },
  "language_info": {
   "codemirror_mode": {
    "name": "ipython",
    "version": 3
   },
   "file_extension": ".py",
   "mimetype": "text/x-python",
   "name": "python",
   "nbconvert_exporter": "python",
   "pygments_lexer": "ipython3",
   "version": "3.7.4"
  }
 },
 "nbformat": 4,
 "nbformat_minor": 2
}
